{
 "cells": [
  {
   "cell_type": "code",
   "execution_count": 2,
   "metadata": {},
   "outputs": [],
   "source": [
    "def displayBoard(board):\n",
    "    \n",
    "    clear ourput()\n",
    "    print(board[7] +'|'+board[8] + '|'+ board [9])\n",
    "    print('-|-|-')\n",
    "    print(board[4] +'|'+board[5] + '|'+ board [6])\n",
    "    print('-|-|-')\n",
    "    print(board[1] +'|'+board[2] + '|'+ board [3])"
   ]
  },
  {
   "cell_type": "code",
   "execution_count": 72,
   "metadata": {},
   "outputs": [],
   "source": [
    "boards= [' ']*10"
   ]
  },
  {
   "cell_type": "code",
   "execution_count": 73,
   "metadata": {},
   "outputs": [
    {
     "name": "stdout",
     "output_type": "stream",
     "text": [
      " | | \n",
      "-|-|-\n",
      " | | \n",
      "-|-|-\n",
      " | | \n"
     ]
    }
   ],
   "source": [
    "displayBoard(boards)"
   ]
  },
  {
   "cell_type": "code",
   "execution_count": 66,
   "metadata": {},
   "outputs": [],
   "source": [
    "def player_input():\n",
    "    marker = ''\n",
    "    ...\n",
    "    output = (player1_marker, player2_marker)\n",
    "    ...\n",
    "    while marker != 'x' and marker != 'o':\n",
    "        marker= input('player1, choose X or O: ')\n",
    "    player1 = marker\n",
    "    if player1 == 'x':\n",
    "        return('x','o')\n",
    "    else:\n",
    "        return('o','x')    "
   ]
  },
  {
   "cell_type": "code",
   "execution_count": 76,
   "metadata": {},
   "outputs": [
    {
     "name": "stdout",
     "output_type": "stream",
     "text": [
      "player1, choose X or O: x\n"
     ]
    },
    {
     "data": {
      "text/plain": [
       "('x', 'o')"
      ]
     },
     "execution_count": 76,
     "metadata": {},
     "output_type": "execute_result"
    }
   ],
   "source": [
    "player_input()"
   ]
  },
  {
   "cell_type": "code",
   "execution_count": 77,
   "metadata": {},
   "outputs": [],
   "source": [
    "def marker_locater(boards, marker, position):\n",
    "    boards[position] = marker"
   ]
  },
  {
   "cell_type": "code",
   "execution_count": 81,
   "metadata": {},
   "outputs": [
    {
     "name": "stdout",
     "output_type": "stream",
     "text": [
      " | | \n",
      "-|-|-\n",
      " |x| \n",
      "-|-|-\n",
      " | | \n"
     ]
    }
   ],
   "source": [
    "marker_locater(boards, 'x', 5)\n",
    "displayBoard(boards)"
   ]
  },
  {
   "cell_type": "code",
   "execution_count": 97,
   "metadata": {},
   "outputs": [],
   "source": [
    "def win_check(board, mark):\n",
    "    \n",
    "    return ((board[1] == board[2] == board[3]== mark) or\n",
    "    (board[4]== board[5]==board[6]== mark) or\n",
    "    (board[7]== board[8]==board[9]== mark) or\n",
    "    (board[1]== board[4]==board[7]==mark) or\n",
    "    (board[2]== board[5]==board[8]== mark) or\n",
    "    (board[3]== board[6]==board[9]==mark) or\n",
    "    (board[3]== board[5]==board[7]== mark) or\n",
    "    (board[1]== board[5]==board[9]== mark))\n",
    "    \n"
   ]
  },
  {
   "cell_type": "code",
   "execution_count": 99,
   "metadata": {},
   "outputs": [
    {
     "data": {
      "text/plain": [
       "False"
      ]
     },
     "execution_count": 99,
     "metadata": {},
     "output_type": "execute_result"
    }
   ],
   "source": [
    "win_check(boards, 'x')"
   ]
  },
  {
   "cell_type": "code",
   "execution_count": 100,
   "metadata": {},
   "outputs": [
    {
     "name": "stdout",
     "output_type": "stream",
     "text": [
      " | | \n",
      "-|-|-\n",
      " |x| \n",
      "-|-|-\n",
      " | | \n"
     ]
    }
   ],
   "source": [
    "displayBoard(boards)"
   ]
  },
  {
   "cell_type": "code",
   "execution_count": 101,
   "metadata": {},
   "outputs": [],
   "source": [
    "def play_first():\n",
    "    flip = random.randint(0,1)\n",
    "    if flip == 0:\n",
    "        return 'player 1'\n",
    "    else:\n",
    "        return 'player 2'"
   ]
  },
  {
   "cell_type": "code",
   "execution_count": 102,
   "metadata": {},
   "outputs": [],
   "source": [
    "def space_check(board,position):\n",
    "    board[position]== ' '"
   ]
  },
  {
   "cell_type": "code",
   "execution_count": 104,
   "metadata": {},
   "outputs": [],
   "source": [
    "def full_board_check(board):\n",
    "    for i in range (1,10):\n",
    "        if space_check(board, i):\n",
    "            return False\n",
    "    return True"
   ]
  },
  {
   "cell_type": "code",
   "execution_count": 107,
   "metadata": {},
   "outputs": [],
   "source": [
    "def player_choice(board):\n",
    "    position = 0\n",
    "    while poition not in [1,2,3,4,5,6,7,8,9] or not space_check(board,postion):\n",
    "        position = int(input('choose a position: (1-9)'))\n",
    "    return position    "
   ]
  },
  {
   "cell_type": "code",
   "execution_count": 108,
   "metadata": {},
   "outputs": [],
   "source": [
    "def replay():\n",
    "    choice = input('play again? enter Yes or No ')\n",
    "    return choice == 'Yes'"
   ]
  },
  {
   "cell_type": "code",
   "execution_count": null,
   "metadata": {},
   "outputs": [],
   "source": [
    "print(turn + 'goes first')\n",
    "play_game = input('ready to play? Y or N?')\n",
    "if play_game == 'Y':\n",
    "game_on= True\n",
    "    else:\n",
    "        game_on = False\n",
    "    while game_on:\n",
    "        if turn == 'player1':\n",
    "            displayBoard(boards)\n",
    "            position = player_choice(boards)\n",
    "            marker_locater(boards,player1_marker,position)\n",
    "            \n",
    "    \n",
    "            if win_check(boards,player1_marker):\n",
    "                displayBoard(boards)\n",
    "                print('player1 has won')  \n",
    "                game_on = False\n",
    "            else:\n",
    "                if full_board_check(boards):\n",
    "                    displayBoard(boards)\n",
    "                    print('Tie Game')\n",
    "                    game_on = False\n",
    "                else:\n",
    "                    turn = 'Player2'\n",
    "        else:\n",
    "            displayBoard(boards)\n",
    "            position = player_choice(boards)\n",
    "            marker_locater(boards,player2_marker,position)\n",
    "            \n",
    "    \n",
    "            if win_check(boards, player2_marker):\n",
    "                displayBoard(boards)\n",
    "                print('player2 has won')  \n",
    "                game_on = False\n",
    "            else:\n",
    "                if full_board_check(boards):\n",
    "                    displayBoard(boards)\n",
    "                    print('Tie Game')\n",
    "                    game_on = False\n",
    "                    \n",
    "                else:\n",
    "                    turn = 'player1'\n",
    "                    \n",
    "    if not reply():\n",
    "        break"
   ]
  },
  {
   "cell_type": "code",
   "execution_count": null,
   "metadata": {},
   "outputs": [],
   "source": []
  }
 ],
 "metadata": {
  "kernelspec": {
   "display_name": "Python 3",
   "language": "python",
   "name": "python3"
  },
  "language_info": {
   "codemirror_mode": {
    "name": "ipython",
    "version": 3
   },
   "file_extension": ".py",
   "mimetype": "text/x-python",
   "name": "python",
   "nbconvert_exporter": "python",
   "pygments_lexer": "ipython3",
   "version": "3.7.4"
  }
 },
 "nbformat": 4,
 "nbformat_minor": 2
}
